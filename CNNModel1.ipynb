{
  "nbformat": 4,
  "nbformat_minor": 0,
  "metadata": {
    "colab": {
      "name": "CNNModel1.ipynb",
      "provenance": []
    },
    "kernelspec": {
      "name": "python3",
      "display_name": "Python 3"
    }
  },
  "cells": [
    {
      "cell_type": "code",
      "metadata": {
        "id": "P5xV0QEpdUfp",
        "colab_type": "code",
        "outputId": "79a92814-2efa-4940-806a-d79a70176d9c",
        "colab": {
          "base_uri": "https://localhost:8080/",
          "height": 80
        }
      },
      "source": [
        "#importing the libraries\n",
        "from keras.preprocessing.image import ImageDataGenerator\n",
        "from keras.models import Model, Sequential #creating the architecture for the CNN\n",
        "from keras.layers import Dense, Conv2D, Flatten #creating layers for the model\n",
        "import numpy as np\n",
        "import os #to access the data stored in the computer\n",
        "from PIL import Image, ImageFile\n",
        "ImageFile.LOAD_TRUNCATED_IMAGES = True\n"
      ],
      "execution_count": 0,
      "outputs": [
        {
          "output_type": "stream",
          "text": [
            "Using TensorFlow backend.\n"
          ],
          "name": "stderr"
        },
        {
          "output_type": "display_data",
          "data": {
            "text/html": [
              "<p style=\"color: red;\">\n",
              "The default version of TensorFlow in Colab will soon switch to TensorFlow 2.x.<br>\n",
              "We recommend you <a href=\"https://www.tensorflow.org/guide/migrate\" target=\"_blank\">upgrade</a> now \n",
              "or ensure your notebook will continue to use TensorFlow 1.x via the <code>%tensorflow_version 1.x</code> magic:\n",
              "<a href=\"https://colab.research.google.com/notebooks/tensorflow_version.ipynb\" target=\"_blank\">more info</a>.</p>\n"
            ],
            "text/plain": [
              "<IPython.core.display.HTML object>"
            ]
          },
          "metadata": {
            "tags": []
          }
        }
      ]
    },
    {
      "cell_type": "code",
      "metadata": {
        "id": "mz3kDi-i_sH9",
        "colab_type": "code",
        "outputId": "f902b74a-0525-44ab-fea3-9cc77450bfad",
        "colab": {
          "base_uri": "https://localhost:8080/",
          "height": 122
        }
      },
      "source": [
        "#loading the dataset from Google Drive\n",
        "from google.colab import drive\n",
        "drive .mount('/content/drive')"
      ],
      "execution_count": 0,
      "outputs": [
        {
          "output_type": "stream",
          "text": [
            "Go to this URL in a browser: https://accounts.google.com/o/oauth2/auth?client_id=947318989803-6bn6qk8qdgf4n4g3pfee6491hc0brc4i.apps.googleusercontent.com&redirect_uri=urn%3aietf%3awg%3aoauth%3a2.0%3aoob&response_type=code&scope=email%20https%3a%2f%2fwww.googleapis.com%2fauth%2fdocs.test%20https%3a%2f%2fwww.googleapis.com%2fauth%2fdrive%20https%3a%2f%2fwww.googleapis.com%2fauth%2fdrive.photos.readonly%20https%3a%2f%2fwww.googleapis.com%2fauth%2fpeopleapi.readonly\n",
            "\n",
            "Enter your authorization code:\n",
            "··········\n",
            "Mounted at /content/drive\n"
          ],
          "name": "stdout"
        }
      ]
    },
    {
      "cell_type": "code",
      "metadata": {
        "id": "ePIinWPbbLla",
        "colab_type": "code",
        "outputId": "2e888036-0491-4d04-9ef7-a9b6f6bb88a7",
        "colab": {
          "base_uri": "https://localhost:8080/",
          "height": 238
        }
      },
      "source": [
        "#Designing compiling the CNN model\n",
        "model=Sequential()\n",
        "model.add(Conv2D(32, kernel_size=3, activation='relu', input_shape=(300,300,3))) #input layer\n",
        "model.add(Conv2D(32, kernel_size=3, activation='relu')) #this is a convolution layer\n",
        "model.add(Conv2D(64, kernel_size=3, activation='relu')) #this is another convolution layer\n",
        "model.add(Conv2D(64, kernel_size=3, activation='relu')) #this is another convolution layer\n",
        "model.add(Flatten()) #converts into 1-D array i.e. flattens\n",
        "model.add(Dense(1,activation='sigmoid')) #1 neurons. 2 diferent labels (Fake or Live)\n",
        "model.compile(loss='binary_crossentropy',optimizer='adam',metrics=['accuracy']) #compiling the  model\n"
      ],
      "execution_count": 0,
      "outputs": [
        {
          "output_type": "stream",
          "text": [
            "WARNING:tensorflow:From /usr/local/lib/python3.6/dist-packages/keras/backend/tensorflow_backend.py:66: The name tf.get_default_graph is deprecated. Please use tf.compat.v1.get_default_graph instead.\n",
            "\n",
            "WARNING:tensorflow:From /usr/local/lib/python3.6/dist-packages/keras/backend/tensorflow_backend.py:541: The name tf.placeholder is deprecated. Please use tf.compat.v1.placeholder instead.\n",
            "\n",
            "WARNING:tensorflow:From /usr/local/lib/python3.6/dist-packages/keras/backend/tensorflow_backend.py:4432: The name tf.random_uniform is deprecated. Please use tf.random.uniform instead.\n",
            "\n",
            "WARNING:tensorflow:From /usr/local/lib/python3.6/dist-packages/keras/optimizers.py:793: The name tf.train.Optimizer is deprecated. Please use tf.compat.v1.train.Optimizer instead.\n",
            "\n",
            "WARNING:tensorflow:From /usr/local/lib/python3.6/dist-packages/keras/backend/tensorflow_backend.py:3657: The name tf.log is deprecated. Please use tf.math.log instead.\n",
            "\n",
            "WARNING:tensorflow:From /usr/local/lib/python3.6/dist-packages/tensorflow_core/python/ops/nn_impl.py:183: where (from tensorflow.python.ops.array_ops) is deprecated and will be removed in a future version.\n",
            "Instructions for updating:\n",
            "Use tf.where in 2.0, which has the same broadcast rule as np.where\n"
          ],
          "name": "stdout"
        }
      ]
    },
    {
      "cell_type": "code",
      "metadata": {
        "id": "7hznl1lIbSYf",
        "colab_type": "code",
        "outputId": "97de286a-8909-44c4-81fd-59d594faa189",
        "colab": {
          "base_uri": "https://localhost:8080/",
          "height": 51
        }
      },
      "source": [
        "#loading and classifying data into train and test sets\n",
        "train_datagen=ImageDataGenerator(rescale=-1./255,shear_range=0.1,zoom_range=0.2,horizontal_flip=False)\n",
        "test_datagen=ImageDataGenerator(rescale=1./255)\n",
        "train_set=train_datagen.flow_from_directory(\"/content/drive/My Drive/Deep Learning IITI/Fingerprint/train\",target_size=(300,300),batch_size=16,class_mode='binary')\n",
        "test_set=test_datagen.flow_from_directory(\"/content/drive/My Drive/Deep Learning IITI/Fingerprint/test\",target_size=(300,300),batch_size=16,class_mode='binary')"
      ],
      "execution_count": 0,
      "outputs": [
        {
          "output_type": "stream",
          "text": [
            "Found 38 images belonging to 2 classes.\n",
            "Found 60 images belonging to 2 classes.\n"
          ],
          "name": "stdout"
        }
      ]
    },
    {
      "cell_type": "code",
      "metadata": {
        "colab_type": "code",
        "outputId": "b2a194b8-be6c-44f2-9db7-8e5e46e10136",
        "id": "iFGrslr3G5Ey",
        "colab": {
          "base_uri": "https://localhost:8080/",
          "height": 51
        }
      },
      "source": [
        "train_datagen=ImageDataGenerator(rescale=-1./255,shear_range=0.1,zoom_range=0.2,horizontal_flip=False)\n",
        "test_datagen=ImageDataGenerator(rescale=1./255)\n",
        "train_set=train_datagen.flow_from_directory(\"/content/drive/My Drive/MODEL1/Train\",target_size=(300,300),batch_size=16,class_mode='binary')\n",
        "test_set=test_datagen.flow_from_directory(\"/content/drive/My Drive/MODEL1/Test\",target_size=(300,300),batch_size=16,class_mode='binary')"
      ],
      "execution_count": 0,
      "outputs": [
        {
          "output_type": "stream",
          "text": [
            "Found 5660 images belonging to 2 classes.\n",
            "Found 7958 images belonging to 2 classes.\n"
          ],
          "name": "stdout"
        }
      ]
    },
    {
      "cell_type": "code",
      "metadata": {
        "id": "cH25BfRCDc7K",
        "colab_type": "code",
        "outputId": "6f455bf5-13a8-4feb-e7fe-d65b740abc95",
        "colab": {
          "base_uri": "https://localhost:8080/",
          "height": 391
        }
      },
      "source": [
        "#Fitting the model\n",
        "model.fit_generator(train_set,steps_per_epoch=25,epochs=3,validation_data=test_set,validation_steps=2)\n",
        "model.save_weights('hi.h5')  # to save weights after training"
      ],
      "execution_count": 0,
      "outputs": [
        {
          "output_type": "stream",
          "text": [
            "WARNING:tensorflow:From /usr/local/lib/python3.6/dist-packages/keras/backend/tensorflow_backend.py:1033: The name tf.assign_add is deprecated. Please use tf.compat.v1.assign_add instead.\n",
            "\n",
            "WARNING:tensorflow:From /usr/local/lib/python3.6/dist-packages/keras/backend/tensorflow_backend.py:1020: The name tf.assign is deprecated. Please use tf.compat.v1.assign instead.\n",
            "\n",
            "WARNING:tensorflow:From /usr/local/lib/python3.6/dist-packages/keras/backend/tensorflow_backend.py:3005: The name tf.Session is deprecated. Please use tf.compat.v1.Session instead.\n",
            "\n",
            "Epoch 1/3\n",
            "WARNING:tensorflow:From /usr/local/lib/python3.6/dist-packages/keras/backend/tensorflow_backend.py:190: The name tf.get_default_session is deprecated. Please use tf.compat.v1.get_default_session instead.\n",
            "\n",
            "WARNING:tensorflow:From /usr/local/lib/python3.6/dist-packages/keras/backend/tensorflow_backend.py:197: The name tf.ConfigProto is deprecated. Please use tf.compat.v1.ConfigProto instead.\n",
            "\n",
            "WARNING:tensorflow:From /usr/local/lib/python3.6/dist-packages/keras/backend/tensorflow_backend.py:207: The name tf.global_variables is deprecated. Please use tf.compat.v1.global_variables instead.\n",
            "\n",
            "WARNING:tensorflow:From /usr/local/lib/python3.6/dist-packages/keras/backend/tensorflow_backend.py:216: The name tf.is_variable_initialized is deprecated. Please use tf.compat.v1.is_variable_initialized instead.\n",
            "\n",
            "WARNING:tensorflow:From /usr/local/lib/python3.6/dist-packages/keras/backend/tensorflow_backend.py:223: The name tf.variables_initializer is deprecated. Please use tf.compat.v1.variables_initializer instead.\n",
            "\n",
            "25/25 [==============================] - 399s 16s/step - loss: 6.3410 - acc: 0.5808 - val_loss: 6.0443 - val_acc: 0.6250\n",
            "Epoch 2/3\n",
            "25/25 [==============================] - 390s 16s/step - loss: 6.3666 - acc: 0.6050 - val_loss: 9.0664 - val_acc: 0.4375\n",
            "Epoch 3/3\n",
            "25/25 [==============================] - 390s 16s/step - loss: 6.3264 - acc: 0.6075 - val_loss: 10.0738 - val_acc: 0.3750\n"
          ],
          "name": "stdout"
        }
      ]
    }
  ]
}